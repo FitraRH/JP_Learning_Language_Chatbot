{
 "cells": [
  {
   "cell_type": "markdown",
   "metadata": {},
   "source": [
    "# Language Learning Hybrid Chatbot\n",
    "\n"
   ]
  },
  {
   "cell_type": "markdown",
   "metadata": {},
   "source": [
    "## NLP\n",
    "NLP is a way for computers to analyze, understand, and derive meaning from human language in a smart and useful way. By utilizing NLP, developers can organize and structure knowledge to perform tasks such as automatic summarization, translation, named entity recognition, relationship extraction, sentiment analysis, speech recognition, and topic segmentation."
   ]
  },
  {
   "cell_type": "markdown",
   "metadata": {},
   "source": [
    "## Import necessary libraries"
   ]
  },
  {
   "cell_type": "code",
   "execution_count": 15,
   "metadata": {},
   "outputs": [],
   "source": [
    "import json\n",
    "import string\n",
    "import random\n",
    "import pandas as pd\n",
    "\n",
    "import nltk\n",
    "import numpy as np\n",
    "from nltk.stem import WordNetLemmatizer\n",
    "import tensorflow as tf\n",
    "from tensorflow.keras import Sequential\n",
    "from tensorflow.keras.layers import Dense, Dropout, LSTM\n",
    "from sklearn.metrics import confusion_matrix\n",
    "import matplotlib.pyplot as plt"
   ]
  },
  {
   "cell_type": "markdown",
   "metadata": {},
   "source": [
    "## Downloading and installing NLTK\n",
    "NLTK(Natural Language Toolkit) is a leading platform for building Python programs to work with human language data. It provides easy-to-use interfaces to over 50 corpora and lexical resources such as WordNet, along with a suite of text processing libraries for classification, tokenization, stemming, tagging, parsing, and semantic reasoning, wrappers for industrial-strength NLP libraries.\n",
    "\n",
    "[Natural Language Processing with Python](http://www.nltk.org/book/) provides a practical introduction to programming for language processing.\n",
    "\n",
    "For platform-specific instructions, read [here](https://www.nltk.org/install.html)\n",
    "\n"
   ]
  },
  {
   "cell_type": "code",
   "execution_count": 16,
   "metadata": {},
   "outputs": [
    {
     "name": "stdout",
     "output_type": "stream",
     "text": [
      "Requirement already satisfied: nltk in c:\\users\\muhammad daffa a b\\appdata\\local\\packages\\pythonsoftwarefoundation.python.3.10_qbz5n2kfra8p0\\localcache\\local-packages\\python310\\site-packages (3.8.1)Note: you may need to restart the kernel to use updated packages.\n",
      "\n",
      "Requirement already satisfied: click in c:\\users\\muhammad daffa a b\\appdata\\local\\packages\\pythonsoftwarefoundation.python.3.10_qbz5n2kfra8p0\\localcache\\local-packages\\python310\\site-packages (from nltk) (8.1.3)\n",
      "Requirement already satisfied: joblib in c:\\users\\muhammad daffa a b\\appdata\\local\\packages\\pythonsoftwarefoundation.python.3.10_qbz5n2kfra8p0\\localcache\\local-packages\\python310\\site-packages (from nltk) (1.3.1)\n",
      "Requirement already satisfied: regex>=2021.8.3 in c:\\users\\muhammad daffa a b\\appdata\\local\\packages\\pythonsoftwarefoundation.python.3.10_qbz5n2kfra8p0\\localcache\\local-packages\\python310\\site-packages (from nltk) (2023.6.3)\n",
      "Requirement already satisfied: tqdm in c:\\users\\muhammad daffa a b\\appdata\\local\\packages\\pythonsoftwarefoundation.python.3.10_qbz5n2kfra8p0\\localcache\\local-packages\\python310\\site-packages (from nltk) (4.66.1)\n",
      "Requirement already satisfied: colorama in c:\\users\\muhammad daffa a b\\appdata\\local\\packages\\pythonsoftwarefoundation.python.3.10_qbz5n2kfra8p0\\localcache\\local-packages\\python310\\site-packages (from click->nltk) (0.4.6)\n"
     ]
    },
    {
     "name": "stderr",
     "output_type": "stream",
     "text": [
      "\n",
      "[notice] A new release of pip is available: 23.3.2 -> 24.0\n",
      "[notice] To update, run: C:\\Users\\Muhammad Daffa A B\\AppData\\Local\\Microsoft\\WindowsApps\\PythonSoftwareFoundation.Python.3.10_qbz5n2kfra8p0\\python.exe -m pip install --upgrade pip\n"
     ]
    }
   ],
   "source": [
    "pip install nltk"
   ]
  },
  {
   "cell_type": "markdown",
   "metadata": {},
   "source": [
    "### Installing NLTK Packages\n",
    "\n",
    "\n"
   ]
  },
  {
   "cell_type": "code",
   "execution_count": 17,
   "metadata": {},
   "outputs": [
    {
     "data": {
      "text/plain": [
       "True"
      ]
     },
     "execution_count": 17,
     "metadata": {},
     "output_type": "execute_result"
    }
   ],
   "source": [
    "import nltk\n",
    "from nltk.stem import WordNetLemmatizer\n",
    "nltk.download('popular', quiet=True) # for downloading packages\n",
    "#nltk.download('punkt') # first-time use only\n",
    "#nltk.download('wordnet') # first-time use only"
   ]
  },
  {
   "cell_type": "markdown",
   "metadata": {},
   "source": [
    "## Reading in the corpus\n",
    "\n",
    "For our example,we will be using the Wikipedia page for Hiragana and Katakana as our corpus. Copy the contents from the page and place it in a text file."
   ]
  },
  {
   "cell_type": "code",
   "execution_count": 18,
   "metadata": {},
   "outputs": [
    {
     "data": {
      "text/html": [
       "<div>\n",
       "<style scoped>\n",
       "    .dataframe tbody tr th:only-of-type {\n",
       "        vertical-align: middle;\n",
       "    }\n",
       "\n",
       "    .dataframe tbody tr th {\n",
       "        vertical-align: top;\n",
       "    }\n",
       "\n",
       "    .dataframe thead th {\n",
       "        text-align: right;\n",
       "    }\n",
       "</style>\n",
       "<table border=\"1\" class=\"dataframe\">\n",
       "  <thead>\n",
       "    <tr style=\"text-align: right;\">\n",
       "      <th></th>\n",
       "      <th>intents</th>\n",
       "    </tr>\n",
       "  </thead>\n",
       "  <tbody>\n",
       "    <tr>\n",
       "      <th>0</th>\n",
       "      <td>{'tag': 'katakanaDefinition', 'patterns': ['Wh...</td>\n",
       "    </tr>\n",
       "    <tr>\n",
       "      <th>1</th>\n",
       "      <td>{'tag': 'hiraganaDefinition', 'patterns': ['Wh...</td>\n",
       "    </tr>\n",
       "    <tr>\n",
       "      <th>2</th>\n",
       "      <td>{'tag': 'katakanaExamples', 'patterns': ['Show...</td>\n",
       "    </tr>\n",
       "    <tr>\n",
       "      <th>3</th>\n",
       "      <td>{'tag': 'hiraganaExamples', 'patterns': ['Show...</td>\n",
       "    </tr>\n",
       "    <tr>\n",
       "      <th>4</th>\n",
       "      <td>{'tag': 'katakanaUsage', 'patterns': ['When to...</td>\n",
       "    </tr>\n",
       "    <tr>\n",
       "      <th>...</th>\n",
       "      <td>...</td>\n",
       "    </tr>\n",
       "    <tr>\n",
       "      <th>58</th>\n",
       "      <td>{'tag': 'katakanaComprehensionChallenges', 'pa...</td>\n",
       "    </tr>\n",
       "    <tr>\n",
       "      <th>59</th>\n",
       "      <td>{'tag': 'katakanaAndLanguageDevelopment', 'pat...</td>\n",
       "    </tr>\n",
       "    <tr>\n",
       "      <th>60</th>\n",
       "      <td>{'tag': 'katakanaProcessingEfficiency', 'patte...</td>\n",
       "    </tr>\n",
       "    <tr>\n",
       "      <th>61</th>\n",
       "      <td>{'tag': 'katakanaAndMentalMapping', 'patterns'...</td>\n",
       "    </tr>\n",
       "    <tr>\n",
       "      <th>62</th>\n",
       "      <td>{'tag': 'thanks', 'patterns': ['Thank you', 'T...</td>\n",
       "    </tr>\n",
       "  </tbody>\n",
       "</table>\n",
       "<p>63 rows × 1 columns</p>\n",
       "</div>"
      ],
      "text/plain": [
       "                                              intents\n",
       "0   {'tag': 'katakanaDefinition', 'patterns': ['Wh...\n",
       "1   {'tag': 'hiraganaDefinition', 'patterns': ['Wh...\n",
       "2   {'tag': 'katakanaExamples', 'patterns': ['Show...\n",
       "3   {'tag': 'hiraganaExamples', 'patterns': ['Show...\n",
       "4   {'tag': 'katakanaUsage', 'patterns': ['When to...\n",
       "..                                                ...\n",
       "58  {'tag': 'katakanaComprehensionChallenges', 'pa...\n",
       "59  {'tag': 'katakanaAndLanguageDevelopment', 'pat...\n",
       "60  {'tag': 'katakanaProcessingEfficiency', 'patte...\n",
       "61  {'tag': 'katakanaAndMentalMapping', 'patterns'...\n",
       "62  {'tag': 'thanks', 'patterns': ['Thank you', 'T...\n",
       "\n",
       "[63 rows x 1 columns]"
      ]
     },
     "execution_count": 18,
     "metadata": {},
     "output_type": "execute_result"
    }
   ],
   "source": [
    "data = pd.read_json(\"./intents_exercise.json\")\n",
    "data"
   ]
  },
  {
   "cell_type": "code",
   "execution_count": 19,
   "metadata": {},
   "outputs": [
    {
     "data": {
      "text/plain": [
       "[\"'s\",\n",
       " 'and',\n",
       " 'are',\n",
       " 'art',\n",
       " 'between',\n",
       " 'book',\n",
       " 'calligraphy',\n",
       " 'challenge',\n",
       " 'character',\n",
       " 'child',\n",
       " 'cognitive',\n",
       " 'combination',\n",
       " 'compared',\n",
       " 'comprehension',\n",
       " 'conjugation',\n",
       " 'contribute',\n",
       " 'cultural',\n",
       " 'culture',\n",
       " 'custom',\n",
       " 'development',\n",
       " 'difference',\n",
       " 'difficulty',\n",
       " 'do',\n",
       " 'doe',\n",
       " 'education',\n",
       " 'efficiency',\n",
       " 'efficiently',\n",
       " 'emphasis',\n",
       " 'emphasized',\n",
       " 'emphasizing',\n",
       " 'enhance',\n",
       " 'evolution',\n",
       " 'example',\n",
       " 'face',\n",
       " 'fast',\n",
       " 'for',\n",
       " 'foreign',\n",
       " 'game',\n",
       " 'genre',\n",
       " 'hiragana',\n",
       " 'hiragana-only',\n",
       " 'historical',\n",
       " 'how',\n",
       " 'impact',\n",
       " 'in',\n",
       " 'influence',\n",
       " 'is',\n",
       " 'japanese',\n",
       " 'kanji',\n",
       " 'katakana',\n",
       " 'language',\n",
       " 'list',\n",
       " 'literary',\n",
       " 'literature',\n",
       " 'load',\n",
       " 'loanword',\n",
       " 'map',\n",
       " 'mapping',\n",
       " 'me',\n",
       " 'meaning',\n",
       " 'medium',\n",
       " 'mental',\n",
       " 'mentally',\n",
       " 'modern',\n",
       " 'much',\n",
       " 'name',\n",
       " 'native',\n",
       " 'no',\n",
       " 'of',\n",
       " 'on',\n",
       " 'onomatopoeia',\n",
       " 'origin',\n",
       " 'other',\n",
       " 'particle',\n",
       " 'perceive',\n",
       " 'perception',\n",
       " 'poetry',\n",
       " 'popular',\n",
       " 'practice',\n",
       " 'process',\n",
       " 'processing',\n",
       " 'read',\n",
       " 'reading',\n",
       " 'role',\n",
       " 'script',\n",
       " 'show',\n",
       " 'significance',\n",
       " 'speaker',\n",
       " 'speed',\n",
       " 'strategy',\n",
       " 'style',\n",
       " 'teaching',\n",
       " 'technical',\n",
       " 'technology',\n",
       " 'term',\n",
       " 'thank',\n",
       " 'thanks',\n",
       " 'the',\n",
       " 'to',\n",
       " 'traditional',\n",
       " 'usage',\n",
       " 'use',\n",
       " 'used',\n",
       " 'v',\n",
       " 'various',\n",
       " 'verb',\n",
       " 'very',\n",
       " 'view',\n",
       " 'vs.',\n",
       " 'what',\n",
       " 'when',\n",
       " 'with',\n",
       " 'word',\n",
       " 'writing',\n",
       " 'you']"
      ]
     },
     "execution_count": 19,
     "metadata": {},
     "output_type": "execute_result"
    }
   ],
   "source": [
    "words = []\n",
    "classes = []\n",
    "data_X = []\n",
    "data_Y = []\n",
    "\n",
    "for intent in data[\"intents\"]:\n",
    "    for pattern in intent[\"patterns\"]:\n",
    "        tokens = nltk.word_tokenize(pattern)\n",
    "        words.extend(tokens)\n",
    "        data_X.append(pattern)\n",
    "        data_Y.append(intent[\"tag\"]) ,\n",
    "\n",
    "    if intent[\"tag\"] not in classes:\n",
    "        classes.append(intent[\"tag\"])\n",
    "\n",
    "lemmatizer = WordNetLemmatizer()\n",
    "\n",
    "words = [lemmatizer.lemmatize(word.lower()) for word in words if word not in string.punctuation]\n",
    "\n",
    "words = sorted(set(words))\n",
    "classes = sorted(set(classes))\n",
    "words"
   ]
  },
  {
   "cell_type": "code",
   "execution_count": 20,
   "metadata": {},
   "outputs": [],
   "source": [
    "training = []\n",
    "out_empty = [0] * len(classes)\n",
    "\n",
    "for idx, doc in enumerate(data_X):\n",
    "    bow = []\n",
    "    text = lemmatizer.lemmatize(doc.lower())\n",
    "    for word in words:\n",
    "        bow.append(1) if word in text else bow.append(0)\n",
    "        output_row = list(out_empty)\n",
    "        output_row[classes.index(data_Y[idx])] = 1\n",
    "        training.append([bow, output_row])\n",
    "\n",
    "random.shuffle(training)\n",
    "training = np.array(training, dtype=object)\n",
    "\n",
    "train_X = np.array(list(training[:, 0]))\n",
    "train_Y = np.array(list(training[:, 1]))\n"
   ]
  },
  {
   "cell_type": "code",
   "execution_count": 21,
   "metadata": {},
   "outputs": [
    {
     "name": "stdout",
     "output_type": "stream",
     "text": [
      "Epoch 1/10\n",
      "432/432 [==============================] - 1s 2ms/step - loss: 0.9798 - accuracy: 0.7145\n",
      "Epoch 2/10\n",
      "432/432 [==============================] - 1s 2ms/step - loss: 0.4107 - accuracy: 0.8692\n",
      "Epoch 3/10\n",
      "432/432 [==============================] - 1s 2ms/step - loss: 0.3892 - accuracy: 0.8819\n",
      "Epoch 4/10\n",
      "432/432 [==============================] - 1s 2ms/step - loss: 0.4040 - accuracy: 0.8814\n",
      "Epoch 5/10\n",
      "432/432 [==============================] - 1s 1ms/step - loss: 0.3728 - accuracy: 0.8952\n",
      "Epoch 6/10\n",
      "432/432 [==============================] - 1s 2ms/step - loss: 0.3777 - accuracy: 0.8957\n",
      "Epoch 7/10\n",
      "432/432 [==============================] - 1s 2ms/step - loss: 0.3783 - accuracy: 0.8986\n",
      "Epoch 8/10\n",
      "432/432 [==============================] - 1s 2ms/step - loss: 0.3723 - accuracy: 0.8993\n",
      "Epoch 9/10\n",
      "432/432 [==============================] - 1s 2ms/step - loss: 0.3951 - accuracy: 0.8988\n",
      "Epoch 10/10\n",
      "432/432 [==============================] - 1s 2ms/step - loss: 0.3523 - accuracy: 0.9101\n",
      "Model: \"sequential_4\"\n",
      "_________________________________________________________________\n",
      " Layer (type)                Output Shape              Param #   \n",
      "=================================================================\n",
      " dense_10 (Dense)            (None, 128)               14848     \n",
      "                                                                 \n",
      " dropout_8 (Dropout)         (None, 128)               0         \n",
      "                                                                 \n",
      " dense_11 (Dense)            (None, 64)                8256      \n",
      "                                                                 \n",
      " dropout_9 (Dropout)         (None, 64)                0         \n",
      "                                                                 \n",
      " dense_12 (Dense)            (None, 63)                4095      \n",
      "                                                                 \n",
      "=================================================================\n",
      "Total params: 27199 (106.25 KB)\n",
      "Trainable params: 27199 (106.25 KB)\n",
      "Non-trainable params: 0 (0.00 Byte)\n",
      "_________________________________________________________________\n",
      "None\n"
     ]
    }
   ],
   "source": [
    "# Define FNN Model (Only consists of dense layers)\n",
    "fnn_model = Sequential()\n",
    "fnn_model.add(Dense(128, input_shape=(len(train_X[0]),), activation=\"relu\")) # Number of neurons\n",
    "fnn_model.add(Dropout(0.5))\n",
    "fnn_model.add(Dense(64, activation=\"relu\"))\n",
    "fnn_model.add(Dropout(0.5))\n",
    "fnn_model.add(Dense(len(train_Y[0]), activation=\"softmax\"))\n",
    "adam = tf.keras.optimizers.Adam(learning_rate=0.01)\n",
    "fnn_model.compile(loss=\"categorical_crossentropy\", optimizer=adam, metrics=[\"accuracy\"])\n",
    "\n",
    "# Train FNN Model (doesn't need any reshaping)\n",
    "fnn_history = fnn_model.fit(x=train_X, y=train_Y, epochs=10, verbose=1)\n",
    "print(fnn_model.summary())\n",
    "\n",
    "\n",
    "\n"
   ]
  },
  {
   "cell_type": "code",
   "execution_count": 22,
   "metadata": {},
   "outputs": [
    {
     "name": "stdout",
     "output_type": "stream",
     "text": [
      "Epoch 1/10\n",
      "432/432 [==============================] - 23s 50ms/step - loss: 3.1298 - accuracy: 0.1404\n",
      "Epoch 2/10\n",
      "432/432 [==============================] - 21s 49ms/step - loss: 2.1658 - accuracy: 0.2734\n",
      "Epoch 3/10\n",
      "432/432 [==============================] - 24s 56ms/step - loss: 1.9401 - accuracy: 0.3246\n",
      "Epoch 4/10\n",
      "432/432 [==============================] - 24s 56ms/step - loss: 1.7726 - accuracy: 0.3545\n",
      "Epoch 5/10\n",
      "432/432 [==============================] - 24s 56ms/step - loss: 1.6238 - accuracy: 0.3757\n",
      "Epoch 6/10\n",
      "432/432 [==============================] - 23s 53ms/step - loss: 1.4176 - accuracy: 0.4288\n",
      "Epoch 7/10\n",
      "432/432 [==============================] - 23s 54ms/step - loss: 1.2847 - accuracy: 0.4633\n",
      "Epoch 8/10\n",
      "432/432 [==============================] - 24s 56ms/step - loss: 1.3903 - accuracy: 0.4505\n",
      "Epoch 9/10\n",
      "432/432 [==============================] - 22s 51ms/step - loss: 1.1475 - accuracy: 0.5009\n",
      "Epoch 10/10\n",
      "432/432 [==============================] - 24s 55ms/step - loss: 1.0792 - accuracy: 0.5299\n",
      "Model: \"sequential_5\"\n",
      "_________________________________________________________________\n",
      " Layer (type)                Output Shape              Param #   \n",
      "=================================================================\n",
      " lstm_2 (LSTM)               (None, 128)               66560     \n",
      "                                                                 \n",
      " dropout_10 (Dropout)        (None, 128)               0         \n",
      "                                                                 \n",
      " dense_13 (Dense)            (None, 64)                8256      \n",
      "                                                                 \n",
      " dropout_11 (Dropout)        (None, 64)                0         \n",
      "                                                                 \n",
      " dense_14 (Dense)            (None, 63)                4095      \n",
      "                                                                 \n",
      "=================================================================\n",
      "Total params: 78911 (308.25 KB)\n",
      "Trainable params: 78911 (308.25 KB)\n",
      "Non-trainable params: 0 (0.00 Byte)\n",
      "_________________________________________________________________\n",
      "None\n"
     ]
    }
   ],
   "source": [
    "# Define LSTM Model\n",
    "lstm_model = Sequential()\n",
    "lstm_model.add(LSTM(128, input_shape=(len(train_X[0]), 1))) # Number of neurons\n",
    "lstm_model.add(Dropout(0.5))\n",
    "lstm_model.add(Dense(64, activation=\"relu\"))\n",
    "lstm_model.add(Dropout(0.5))\n",
    "lstm_model.add(Dense(len(train_Y[0]), activation=\"softmax\"))\n",
    "adam = tf.keras.optimizers.Adam(learning_rate=0.01)\n",
    "lstm_model.compile(loss=\"categorical_crossentropy\", optimizer=adam, metrics=[\"accuracy\"])\n",
    "\n",
    "# Train LSTM Model (reshape input for LSTM)\n",
    "train_X_lstm = np.reshape(train_X, (train_X.shape[0], train_X.shape[1], 1))\n",
    "lstm_history = lstm_model.fit(x=train_X_lstm, y=train_Y, epochs=10, verbose=1)\n",
    "print(lstm_model.summary())\n"
   ]
  },
  {
   "cell_type": "code",
   "execution_count": 23,
   "metadata": {},
   "outputs": [
    {
     "data": {
      "image/png": "[encoded data removed]",
      "text/plain": [
       "<Figure size 1200x600 with 1 Axes>"
      ]
     },
     "metadata": {},
     "output_type": "display_data"
    }
   ],
   "source": [
    "# Visualize Training and Validation Loss Curves\n",
    "plt.figure(figsize=(12, 6))\n",
    "plt.plot(fnn_history.history[\"loss\"], label=\"FNN Training Loss\")\n",
    "plt.plot(lstm_history.history[\"loss\"], label=\"LSTM Training Loss\")\n",
    "plt.title(\"Training Loss Curves\")\n",
    "plt.xlabel(\"Epochs\")\n",
    "plt.ylabel(\"Loss\")\n",
    "plt.legend()\n",
    "plt.grid(True)\n",
    "plt.show()"
   ]
  },
  {
   "cell_type": "code",
   "execution_count": 24,
   "metadata": {},
   "outputs": [
    {
     "data": {
      "image/png": "[encoded data removed]",
      "text/plain": [
       "<Figure size 1200x600 with 1 Axes>"
      ]
     },
     "metadata": {},
     "output_type": "display_data"
    }
   ],
   "source": [
    "# Visualize Training and Validation Accuracy Curves\n",
    "plt.figure(figsize=(12, 6))\n",
    "plt.plot(fnn_history.history[\"accuracy\"], label=\"FNN Training Accuracy\")\n",
    "plt.plot(lstm_history.history[\"accuracy\"], label=\"LSTM Training Accuracy\")\n",
    "plt.title(\"Training Accuracy Curves\")\n",
    "plt.xlabel(\"Epochs\")\n",
    "plt.ylabel(\"Accuracy\")\n",
    "plt.legend()\n",
    "plt.grid(True)\n",
    "plt.show()"
   ]
  },
  {
   "cell_type": "markdown",
   "metadata": {},
   "source": [
    "Finally, we will feed the lines that we want our bot to say while starting and ending a conversation depending upon user’s input."
   ]
  },
  {
   "cell_type": "code",
   "execution_count": null,
   "metadata": {},
   "outputs": [],
   "source": []
  },
  {
   "cell_type": "code",
   "execution_count": null,
   "metadata": {},
   "outputs": [],
   "source": []
  },
  {
   "cell_type": "code",
   "execution_count": null,
   "metadata": {},
   "outputs": [],
   "source": []
  }
 ],
 "metadata": {
  "kernelspec": {
   "display_name": "Python 3",
   "language": "python",
   "name": "python3"
  },
  "language_info": {
   "codemirror_mode": {
    "name": "ipython",
    "version": 3
   },
   "file_extension": ".py",
   "mimetype": "text/x-python",
   "name": "python",
   "nbconvert_exporter": "python",
   "pygments_lexer": "ipython3",
   "version": "3.10.11"
  }
 },
 "nbformat": 4,
 "nbformat_minor": 2
}
